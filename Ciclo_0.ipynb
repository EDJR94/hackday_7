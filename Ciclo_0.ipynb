{
 "cells": [
  {
   "cell_type": "markdown",
   "id": "a15dfb05-d1dc-4ea5-b9c1-91f7bbc6b9bd",
   "metadata": {},
   "source": [
    "A EletroPlaza Store é um conglomerado de lojas presente em diversos países do mundo. Apesar da presença online da marca, as vendas são predominantemente físicas. A multinacional atua com eletrônicos, eletrodomésticos e acessórios em geral, oferecendo produtos acessíveis e de qualidade para uma vasta gama de clientes.\n",
    "\n",
    "Após diversos investimentos realizados nos setores de vendas, marketing e desenvolvimento de produtos, a empresa teve um grande salto em seu faturamento no último ano. Porém, junto ao faturamento, vieram novos desafios em tentar entender precisamente como as vendas vão continuar se comportando nas próximas semanas.\n",
    "\n",
    "O ano está chegando ao fim e a Black Friday e o Natal estão se aproximando. As vendas tendem a subir exponencialmente ainda mais nessa época e os dados de comparação do ano passado já não servem mais como termômetro para a empresa. Além disso, a equipe de negócio tem uma meta de faturamento e está preocupada se conseguirá alcançá-la. A urgência em entender os possíveis resultados é grande.\n",
    "\n",
    "O desafio da sua equipe, formada por cientistas e analistas de dados, é construir uma solução que preveja as vendas semanais das lojas e de seus variados setores para as 5 semanas finais do ano. Deste modo, os gestores da EletroPlaza Store poderão definir planos futuros, organizar estoques, calcular receitas, decidir se farão novos investimentos ou não e onde devem alocar estes novos investimentos, através de campanhas mais eficientes de marketing e vendas.\n",
    "\n",
    "Os dados disponíveis para a previsão são referentes às vendas realizadas do início do ano vigente até o momento. Cada linha representa um setor específico de uma loja específica naquela determinada semana. São fornecidas diversas informações para análise, inclusive dados externos como temperatura, preço de combustível e taxa de desemprego. Ainda, devido a urgência da solicitação, há diversos dados faltantes na base e a sua equipe não tem tempo hábil o suficiente para coletá-los, devendo buscar soluções alternativas para que mesmo assim consiga realizar previsões eficazes."
   ]
  },
  {
   "cell_type": "code",
   "execution_count": 274,
   "id": "a468607d-b0f7-4ba7-9b93-09521909ae83",
   "metadata": {},
   "outputs": [],
   "source": [
    "import pandas as pd\n",
    "import numpy as np\n",
    "\n",
    "\n",
    "from sklearn.preprocessing import OneHotEncoder\n",
    "\n",
    "from xgboost import XGBRegressor"
   ]
  },
  {
   "cell_type": "markdown",
   "id": "598b1d6b-4d25-4da5-b707-d42fa2ae98bb",
   "metadata": {},
   "source": [
    "## Load Data"
   ]
  },
  {
   "cell_type": "code",
   "execution_count": 275,
   "id": "21c46a1b-d17a-4e12-9c07-2cd4f8865cde",
   "metadata": {},
   "outputs": [],
   "source": [
    "path = '/home/edilson07/projects/hackday_7/data/'\n",
    "\n",
    "train = pd.read_csv(path + 'train.csv')\n",
    "train_features = pd.read_csv(path + 'train_features.csv')\n",
    "stores = pd.read_csv(path + 'stores.csv')\n",
    "\n",
    "test = pd.read_csv(path + 'test.csv')\n",
    "test_features = pd.read_csv(path + 'test_features.csv')\n",
    "\n",
    "df = pd.merge(train, train_features, on=['loja', 'data','feriado'], how='left').merge(stores, on='loja', how='left')\n",
    "df_test = pd.merge(test, test_features, on=['loja', 'data','feriado'], how='left').merge(stores, on='loja', how='left')"
   ]
  },
  {
   "cell_type": "code",
   "execution_count": 276,
   "id": "16a86ef4-ada5-4346-bda0-c85de1d26699",
   "metadata": {},
   "outputs": [
    {
     "data": {
      "text/html": [
       "<div>\n",
       "<style scoped>\n",
       "    .dataframe tbody tr th:only-of-type {\n",
       "        vertical-align: middle;\n",
       "    }\n",
       "\n",
       "    .dataframe tbody tr th {\n",
       "        vertical-align: top;\n",
       "    }\n",
       "\n",
       "    .dataframe thead th {\n",
       "        text-align: right;\n",
       "    }\n",
       "</style>\n",
       "<table border=\"1\" class=\"dataframe\">\n",
       "  <thead>\n",
       "    <tr style=\"text-align: right;\">\n",
       "      <th></th>\n",
       "      <th>id</th>\n",
       "      <th>loja</th>\n",
       "      <th>setor</th>\n",
       "      <th>data</th>\n",
       "      <th>vendas_semanais</th>\n",
       "      <th>feriado</th>\n",
       "      <th>temperatura</th>\n",
       "      <th>combustivel</th>\n",
       "      <th>desconto_1</th>\n",
       "      <th>desconto_2</th>\n",
       "      <th>desconto_3</th>\n",
       "      <th>desconto_4</th>\n",
       "      <th>desconto_5</th>\n",
       "      <th>desemprego</th>\n",
       "      <th>distancia_competidores</th>\n",
       "      <th>clientes</th>\n",
       "      <th>tipo</th>\n",
       "      <th>tamanho</th>\n",
       "    </tr>\n",
       "  </thead>\n",
       "  <tbody>\n",
       "    <tr>\n",
       "      <th>0</th>\n",
       "      <td>140679</td>\n",
       "      <td>17</td>\n",
       "      <td>93</td>\n",
       "      <td>01-07</td>\n",
       "      <td>6283.00</td>\n",
       "      <td>nao</td>\n",
       "      <td>-14.316667</td>\n",
       "      <td>2.891</td>\n",
       "      <td>NaN</td>\n",
       "      <td>NaN</td>\n",
       "      <td>NaN</td>\n",
       "      <td>NaN</td>\n",
       "      <td>NaN</td>\n",
       "      <td>0.06866</td>\n",
       "      <td>NaN</td>\n",
       "      <td>541</td>\n",
       "      <td>eletronico</td>\n",
       "      <td>93188.0</td>\n",
       "    </tr>\n",
       "    <tr>\n",
       "      <th>1</th>\n",
       "      <td>140680</td>\n",
       "      <td>12</td>\n",
       "      <td>17</td>\n",
       "      <td>01-07</td>\n",
       "      <td>10006.77</td>\n",
       "      <td>nao</td>\n",
       "      <td>3.133333</td>\n",
       "      <td>3.287</td>\n",
       "      <td>NaN</td>\n",
       "      <td>NaN</td>\n",
       "      <td>NaN</td>\n",
       "      <td>NaN</td>\n",
       "      <td>NaN</td>\n",
       "      <td>0.14021</td>\n",
       "      <td>NaN</td>\n",
       "      <td>463</td>\n",
       "      <td>eletronico</td>\n",
       "      <td>112238.0</td>\n",
       "    </tr>\n",
       "    <tr>\n",
       "      <th>2</th>\n",
       "      <td>140681</td>\n",
       "      <td>3</td>\n",
       "      <td>25</td>\n",
       "      <td>01-07</td>\n",
       "      <td>2658.57</td>\n",
       "      <td>nao</td>\n",
       "      <td>11.861111</td>\n",
       "      <td>NaN</td>\n",
       "      <td>NaN</td>\n",
       "      <td>NaN</td>\n",
       "      <td>NaN</td>\n",
       "      <td>NaN</td>\n",
       "      <td>NaN</td>\n",
       "      <td>0.07551</td>\n",
       "      <td>NaN</td>\n",
       "      <td>901</td>\n",
       "      <td>eletronico</td>\n",
       "      <td>NaN</td>\n",
       "    </tr>\n",
       "    <tr>\n",
       "      <th>3</th>\n",
       "      <td>140682</td>\n",
       "      <td>42</td>\n",
       "      <td>1</td>\n",
       "      <td>01-07</td>\n",
       "      <td>8836.00</td>\n",
       "      <td>nao</td>\n",
       "      <td>NaN</td>\n",
       "      <td>NaN</td>\n",
       "      <td>NaN</td>\n",
       "      <td>NaN</td>\n",
       "      <td>NaN</td>\n",
       "      <td>NaN</td>\n",
       "      <td>NaN</td>\n",
       "      <td>0.08744</td>\n",
       "      <td>NaN</td>\n",
       "      <td>176</td>\n",
       "      <td>outro</td>\n",
       "      <td>39690.0</td>\n",
       "    </tr>\n",
       "    <tr>\n",
       "      <th>4</th>\n",
       "      <td>140683</td>\n",
       "      <td>26</td>\n",
       "      <td>9</td>\n",
       "      <td>01-07</td>\n",
       "      <td>9526.27</td>\n",
       "      <td>nao</td>\n",
       "      <td>-6.038889</td>\n",
       "      <td>3.193</td>\n",
       "      <td>NaN</td>\n",
       "      <td>NaN</td>\n",
       "      <td>NaN</td>\n",
       "      <td>NaN</td>\n",
       "      <td>NaN</td>\n",
       "      <td>0.07907</td>\n",
       "      <td>NaN</td>\n",
       "      <td>124</td>\n",
       "      <td>eletrodomestico</td>\n",
       "      <td>152513.0</td>\n",
       "    </tr>\n",
       "  </tbody>\n",
       "</table>\n",
       "</div>"
      ],
      "text/plain": [
       "       id  loja  setor   data  vendas_semanais feriado  temperatura  \\\n",
       "0  140679    17     93  01-07          6283.00     nao   -14.316667   \n",
       "1  140680    12     17  01-07         10006.77     nao     3.133333   \n",
       "2  140681     3     25  01-07          2658.57     nao    11.861111   \n",
       "3  140682    42      1  01-07          8836.00     nao          NaN   \n",
       "4  140683    26      9  01-07          9526.27     nao    -6.038889   \n",
       "\n",
       "   combustivel  desconto_1  desconto_2  desconto_3  desconto_4  desconto_5  \\\n",
       "0        2.891         NaN         NaN         NaN         NaN         NaN   \n",
       "1        3.287         NaN         NaN         NaN         NaN         NaN   \n",
       "2          NaN         NaN         NaN         NaN         NaN         NaN   \n",
       "3          NaN         NaN         NaN         NaN         NaN         NaN   \n",
       "4        3.193         NaN         NaN         NaN         NaN         NaN   \n",
       "\n",
       "   desemprego  distancia_competidores  clientes             tipo   tamanho  \n",
       "0     0.06866                     NaN       541       eletronico   93188.0  \n",
       "1     0.14021                     NaN       463       eletronico  112238.0  \n",
       "2     0.07551                     NaN       901       eletronico       NaN  \n",
       "3     0.08744                     NaN       176            outro   39690.0  \n",
       "4     0.07907                     NaN       124  eletrodomestico  152513.0  "
      ]
     },
     "execution_count": 276,
     "metadata": {},
     "output_type": "execute_result"
    }
   ],
   "source": [
    "df.head()"
   ]
  },
  {
   "cell_type": "code",
   "execution_count": 277,
   "id": "ba396077-9867-495e-8aa9-88e4666b97bf",
   "metadata": {},
   "outputs": [
    {
     "data": {
      "text/plain": [
       "array(['nao', 'sim'], dtype=object)"
      ]
     },
     "execution_count": 277,
     "metadata": {},
     "output_type": "execute_result"
    }
   ],
   "source": [
    "df['feriado'].unique()"
   ]
  },
  {
   "cell_type": "markdown",
   "id": "fcbefd89-49bc-44df-9155-578268dcaba0",
   "metadata": {},
   "source": [
    "## Data Description"
   ]
  },
  {
   "cell_type": "code",
   "execution_count": 278,
   "id": "4ba81dfc-6995-49d8-adbc-b4eb30d2f8f4",
   "metadata": {},
   "outputs": [
    {
     "name": "stdout",
     "output_type": "stream",
     "text": [
      "<class 'pandas.core.frame.DataFrame'>\n",
      "RangeIndex: 135385 entries, 0 to 135384\n",
      "Data columns (total 18 columns):\n",
      " #   Column                  Non-Null Count   Dtype  \n",
      "---  ------                  --------------   -----  \n",
      " 0   id                      135385 non-null  int64  \n",
      " 1   loja                    135385 non-null  int64  \n",
      " 2   setor                   135385 non-null  int64  \n",
      " 3   data                    135385 non-null  object \n",
      " 4   vendas_semanais         122523 non-null  float64\n",
      " 5   feriado                 135385 non-null  object \n",
      " 6   temperatura             87440 non-null   float64\n",
      " 7   combustivel             82396 non-null   float64\n",
      " 8   desconto_1              5926 non-null    float64\n",
      " 9   desconto_2              5875 non-null    float64\n",
      " 10  desconto_3              5639 non-null    float64\n",
      " 11  desconto_4              5201 non-null    float64\n",
      " 12  desconto_5              5926 non-null    float64\n",
      " 13  desemprego              135385 non-null  float64\n",
      " 14  distancia_competidores  5926 non-null    float64\n",
      " 15  clientes                135385 non-null  int64  \n",
      " 16  tipo                    135385 non-null  object \n",
      " 17  tamanho                 102058 non-null  float64\n",
      "dtypes: float64(11), int64(4), object(3)\n",
      "memory usage: 18.6+ MB\n"
     ]
    }
   ],
   "source": [
    "df.info()"
   ]
  },
  {
   "cell_type": "markdown",
   "id": "cbe51fc5-92ed-49a5-b876-210dfeafa6db",
   "metadata": {},
   "source": [
    "## Check NaN"
   ]
  },
  {
   "cell_type": "code",
   "execution_count": 279,
   "id": "a2b4b6b7-f86a-40e8-bcf0-81e77ff1cac6",
   "metadata": {},
   "outputs": [
    {
     "data": {
      "text/plain": [
       "id                             0\n",
       "loja                           0\n",
       "setor                          0\n",
       "data                           0\n",
       "vendas_semanais            12862\n",
       "feriado                        0\n",
       "temperatura                47945\n",
       "combustivel                52989\n",
       "desconto_1                129459\n",
       "desconto_2                129510\n",
       "desconto_3                129746\n",
       "desconto_4                130184\n",
       "desconto_5                129459\n",
       "desemprego                     0\n",
       "distancia_competidores    129459\n",
       "clientes                       0\n",
       "tipo                           0\n",
       "tamanho                    33327\n",
       "dtype: int64"
      ]
     },
     "execution_count": 279,
     "metadata": {},
     "output_type": "execute_result"
    }
   ],
   "source": [
    "df.isna().sum()"
   ]
  },
  {
   "cell_type": "code",
   "execution_count": 280,
   "id": "abd56729-8bf6-475b-8d44-306be023ff5b",
   "metadata": {},
   "outputs": [],
   "source": [
    "def clean_nan(df):\n",
    "\n",
    "    # descontos\n",
    "    \n",
    "    df['desconto_1'] = df['desconto_1'].fillna(0)\n",
    "    df['desconto_2'] = df['desconto_2'].fillna(0)\n",
    "    df['desconto_3'] = df['desconto_3'].fillna(0)\n",
    "    df['desconto_4'] = df['desconto_4'].fillna(0)\n",
    "    df['desconto_5'] = df['desconto_5'].fillna(0)\n",
    "    \n",
    "    # temperatura , combustivel ,tamanho - media\n",
    "    df['temperatura'] = df['temperatura'].fillna(df['temperatura'].mean())\n",
    "    df['combustivel'] = df['combustivel'].fillna(df['combustivel'].mean())\n",
    "    df['tamanho'] = df['tamanho'].fillna(df['tamanho'].mean())\n",
    "    \n",
    "    # distancia_competidores, tamanho\n",
    "    df['distancia_competidores'] = df['distancia_competidores'].fillna(df['distancia_competidores'].max())\n",
    "    \n",
    "    df = df.dropna()\n",
    "\n",
    "    return df\n",
    "\n",
    "df = clean_nan(df)\n",
    "df_test = clean_nan(df_test)"
   ]
  },
  {
   "cell_type": "markdown",
   "id": "055c563d-1526-42e2-8854-0c87b712ef2d",
   "metadata": {},
   "source": [
    "## Change Types"
   ]
  },
  {
   "cell_type": "code",
   "execution_count": 281,
   "id": "8ce8bd11-d2c2-4a4e-a1da-3e8ae602301f",
   "metadata": {},
   "outputs": [],
   "source": [
    "def change_types(df):\n",
    "\n",
    "    df['data'] = pd.to_datetime(df['data'], format='%m-%d')\n",
    "    \n",
    "    df['dia'] = df['data'].dt.day\n",
    "    df['mes'] = df['data'].dt.month\n",
    "    df['dia_semana'] = df['data'].dt.dayofweek\n",
    "    df['trimestre'] = df['data'].dt.quarter\n",
    "    df['semana_do_ano'] = df['data'].dt.isocalendar().week\n",
    "    \n",
    "    \n",
    "    \n",
    "    \n",
    "    df = df.drop(['data'], axis=1)\n",
    "\n",
    "    return df\n",
    "\n",
    "df = change_types(df)\n",
    "df_test = change_types(df_test)"
   ]
  },
  {
   "cell_type": "markdown",
   "id": "8d0746b2-aae2-4d78-892b-b041138b83bb",
   "metadata": {},
   "source": [
    "# Pre Processing"
   ]
  },
  {
   "cell_type": "markdown",
   "id": "b4fdedb2-a6a5-4372-87fa-c01ac7625c69",
   "metadata": {},
   "source": [
    "## One Hot Encoding"
   ]
  },
  {
   "cell_type": "code",
   "execution_count": 282,
   "id": "a3f9e61b-5780-4774-af90-3574f32ea585",
   "metadata": {},
   "outputs": [],
   "source": [
    "feriados = {'nao' : 0,\n",
    "            'sim': 1}\n",
    "\n",
    "def make_feriados(feriados, df):\n",
    "\n",
    "    df['feriado'] = df['feriado'].map(feriados)\n",
    "    df = pd.get_dummies(df, prefix=['tipo'], columns=['tipo'])\n",
    "\n",
    "    return df\n",
    "\n",
    "df = make_feriados(feriados, df)\n",
    "df_test = make_feriados(feriados, df_test)\n",
    "\n"
   ]
  },
  {
   "cell_type": "markdown",
   "id": "e285d7cf-d268-4914-a194-b0b2d53f9183",
   "metadata": {},
   "source": [
    "# Machine Learning"
   ]
  },
  {
   "cell_type": "code",
   "execution_count": 254,
   "id": "0ec90cb1-9095-4c3f-a644-d90b9a1abe1a",
   "metadata": {},
   "outputs": [],
   "source": [
    "X = df.drop(['vendas_semanais'], axis=1)\n",
    "y = df['vendas_semanais']"
   ]
  },
  {
   "cell_type": "code",
   "execution_count": 285,
   "id": "bda42e63-ed94-4908-aeaa-84b261860242",
   "metadata": {},
   "outputs": [],
   "source": [
    "xgb = XGBRegressor()\n",
    "\n",
    "xgb.fit(X, y)\n",
    "\n",
    "y_pred = xgb.predict(df_test)"
   ]
  },
  {
   "cell_type": "markdown",
   "id": "b2f6f373-29d9-49fb-85b4-323e1eca10a8",
   "metadata": {},
   "source": [
    "# Submission"
   ]
  },
  {
   "cell_type": "code",
   "execution_count": 288,
   "id": "fd743f0a-b7b2-4a2c-a04c-110b9b7d8585",
   "metadata": {},
   "outputs": [],
   "source": [
    "df_test['vendas_semanais'] = y_pred\n",
    "df_submission = df_test[['id','vendas_semanais']]"
   ]
  },
  {
   "cell_type": "code",
   "execution_count": 290,
   "id": "e741a410-52f0-45f9-b689-96b21df37dac",
   "metadata": {},
   "outputs": [],
   "source": [
    "df_submission.to_csv('primeira_submissao.csv', index=False)"
   ]
  },
  {
   "cell_type": "code",
   "execution_count": null,
   "id": "28836ec4-467c-40a4-8a74-f4de9fcedcea",
   "metadata": {},
   "outputs": [],
   "source": []
  },
  {
   "cell_type": "code",
   "execution_count": null,
   "id": "e6400c95-220a-4d0b-88ea-8876127f9a80",
   "metadata": {},
   "outputs": [],
   "source": []
  },
  {
   "cell_type": "code",
   "execution_count": null,
   "id": "0be1dba9-aa10-4a52-ae41-1398e0be05de",
   "metadata": {},
   "outputs": [],
   "source": []
  },
  {
   "cell_type": "code",
   "execution_count": null,
   "id": "a684acf0-52ca-4cc0-9eed-7a48bcce59fc",
   "metadata": {},
   "outputs": [],
   "source": []
  },
  {
   "cell_type": "code",
   "execution_count": null,
   "id": "2f8efe79-b452-4344-837f-9640e6535933",
   "metadata": {},
   "outputs": [],
   "source": []
  }
 ],
 "metadata": {
  "kernelspec": {
   "display_name": "Python 3 (ipykernel)",
   "language": "python",
   "name": "python3"
  },
  "language_info": {
   "codemirror_mode": {
    "name": "ipython",
    "version": 3
   },
   "file_extension": ".py",
   "mimetype": "text/x-python",
   "name": "python",
   "nbconvert_exporter": "python",
   "pygments_lexer": "ipython3",
   "version": "3.10.11"
  }
 },
 "nbformat": 4,
 "nbformat_minor": 5
}
